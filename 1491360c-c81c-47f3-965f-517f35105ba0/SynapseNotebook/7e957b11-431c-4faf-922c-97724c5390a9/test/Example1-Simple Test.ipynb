{
 "cells": [
  {
   "cell_type": "code",
   "execution_count": null,
   "id": "6a719fb9",
   "metadata": {},
   "outputs": [
    {
     "data": {
      "application/vnd.livy.statement-meta+json": {
       "execution_finish_time": "2025-06-05T18:27:31.5545759Z",
       "execution_start_time": "2025-06-05T18:27:31.2825453Z",
       "livy_statement_state": "available",
       "normalized_state": "finished",
       "parent_msg_id": "96e69753-8297-444b-a492-09bafd314d67",
       "queued_time": "2025-06-05T18:27:30.9031307Z",
       "session_id": "fe54bcf1-f5cf-4e78-a0ec-ef69b5a9a5ae",
       "session_start_time": null,
       "spark_jobs": {
        "jobs": [],
        "limit": 20,
        "numbers": {
         "FAILED": 0,
         "RUNNING": 0,
         "SUCCEEDED": 0,
         "UNKNOWN": 0
        },
        "rule": "ALL_DESC"
       },
       "spark_pool": null,
       "state": "finished",
       "statement_id": 8,
       "statement_ids": [
        8
       ]
      },
      "text/plain": [
       "StatementMeta(, fe54bcf1-f5cf-4e78-a0ec-ef69b5a9a5ae, 8, Finished, Available, Finished)"
      ]
     },
     "metadata": {},
     "output_type": "display_data"
    },
    {
     "name": "stdout",
     "output_type": "stream",
     "text": [
      "✅ Spark Version: 3.4.3.5.3.20250325.1\n"
     ]
    }
   ],
   "source": [
    "# View Spark version and session\n",
    "print(\"✅ Spark Version:\", spark.version)"
   ]
  }
 ],
 "metadata": {
  "kernelspec": {
   "display_name": "PySpark",
   "language": "Python",
   "name": "synapse_pyspark"
  },
  "language_info": {
   "codemirror_mode": "ipython",
   "file_extension": ".py",
   "mimetype": "text/x-python",
   "name": "python",
   "nbconvert_exporter": "python",
   "pygments_lexer": "ipython",
   "version": "3.8.0"
  }
 },
 "nbformat": 4,
 "nbformat_minor": 5
}
