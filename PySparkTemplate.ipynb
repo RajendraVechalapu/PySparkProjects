{
 "cells": [
  {
   "cell_type": "code",
   "execution_count": 1,
   "id": "f3b5d5c1",
   "metadata": {},
   "outputs": [],
   "source": [
    "from ai_fix_helper import ask_openai_fix"
   ]
  },
  {
   "cell_type": "code",
   "execution_count": 2,
   "id": "77d63569",
   "metadata": {},
   "outputs": [],
   "source": [
    "import traceback\n",
    "\n",
    "\n",
    "def get_concise_error_message(e):\n",
    "    \"\"\"\n",
    "    Extract the most relevant single-line error message for display and AI use.\n",
    "    \"\"\"\n",
    "    tb_str = traceback.format_exception_only(type(e), e)\n",
    "    return tb_str[-1].strip() if tb_str else str(e)\n"
   ]
  },
  {
   "cell_type": "code",
   "execution_count": null,
   "id": "b41c2790",
   "metadata": {},
   "outputs": [
    {
     "name": "stdout",
     "output_type": "stream",
     "text": [
      "Requirement already satisfied: findspark in d:\\rajendra-tech\\pysparkprojects\\.venv\\lib\\site-packages (2.0.1)\n"
     ]
    }
   ],
   "source": [
    "#!pip install findspark"
   ]
  },
  {
   "cell_type": "code",
   "execution_count": 3,
   "id": "045f01c3",
   "metadata": {},
   "outputs": [
    {
     "name": "stdout",
     "output_type": "stream",
     "text": [
      "✅ Spark session started: Spark Deep Learning Example\n",
      "+------+--------+\n",
      "| Fruit|Quantity|\n",
      "+------+--------+\n",
      "| Apple|      10|\n",
      "|Banana|       5|\n",
      "|Orange|       8|\n",
      "+------+--------+\n",
      "\n"
     ]
    }
   ],
   "source": [
    "from spark_init import start_spark\n",
    "\n",
    "spark = start_spark(\"Spark Deep Learning Example\")\n",
    "\n",
    "data = [(\"Apple\", 10), (\"Banana\", 5), (\"Orange\", 8)]\n",
    "df = spark.createDataFrame(data, [\"Fruit\", \"Quantity\"])\n",
    "df.show()\n",
    "\n"
   ]
  },
  {
   "cell_type": "code",
   "execution_count": null,
   "id": "77bca7ee",
   "metadata": {},
   "outputs": [],
   "source": [
    "data = [(\"Apple\", 10), (\"Banana\", 5), (\"Orange\", 8)]\n",
    "df = spark.createDataFrame(data, [\"Fruit\", \"Quantity\"])\n",
    "df.show()"
   ]
  }
 ],
 "metadata": {
  "kernelspec": {
   "display_name": "PySpark",
   "language": "Python",
   "name": "synapse_pyspark"
  }
 },
 "nbformat": 4,
 "nbformat_minor": 5
}
